{
 "cells": [
  {
   "cell_type": "code",
   "execution_count": 1,
   "id": "6d979bf4-4a71-4ba7-8b0a-ecc9da532736",
   "metadata": {},
   "outputs": [],
   "source": [
    "import cv2\n",
    "import webbrowser\n",
    "\n",
    "# Initialize the QR code detector\n",
    "qr_detector = cv2.QRCodeDetector()\n",
    "\n",
    "cap = cv2.VideoCapture(0)\n",
    "last_data = \"\"\n",
    "\n",
    "while True:\n",
    "    ret, frame = cap.read()\n",
    "    if not ret:\n",
    "        break\n",
    "\n",
    "    # Detect and decode\n",
    "    data, bbox, _ = qr_detector.detectAndDecode(frame)\n",
    "\n",
    "    if bbox is not None:\n",
    "        for i in range(len(bbox)):\n",
    "            pt1 = tuple(int(v) for v in bbox[i][0])\n",
    "            pt2 = tuple(int(v) for v in bbox[(i + 1) % len(bbox)][0])\n",
    "            cv2.line(frame, pt1, pt2, color=(0, 255, 0), thickness=2)\n",
    "\n",
    "        if data:\n",
    "            # Display the data on the frame\n",
    "            cv2.putText(frame, data, (int(bbox[0][0][0]), int(bbox[0][0][1] - 10)),\n",
    "                        cv2.FONT_HERSHEY_SIMPLEX, 0.6, (255, 0, 0), 2)\n",
    "\n",
    "            # Open the URL only once\n",
    "            if data != last_data:\n",
    "                last_data = data\n",
    "                if data.startswith(\"http://\") or data.startswith(\"https://\"):\n",
    "                    webbrowser.open(data)\n",
    "\n",
    "    cv2.imshow(\"QR Code Scanner\", frame)\n",
    "\n",
    "    if cv2.waitKey(1) & 0xFF == ord('q'):\n",
    "        break\n",
    "\n",
    "cap.release()\n",
    "cv2.destroyAllWindows()\n"
   ]
  },
  {
   "cell_type": "code",
   "execution_count": null,
   "id": "6f018fb3-80fd-470a-9447-9f11803aa139",
   "metadata": {},
   "outputs": [],
   "source": []
  }
 ],
 "metadata": {
  "kernelspec": {
   "display_name": "Python [conda env:base] *",
   "language": "python",
   "name": "conda-base-py"
  },
  "language_info": {
   "codemirror_mode": {
    "name": "ipython",
    "version": 3
   },
   "file_extension": ".py",
   "mimetype": "text/x-python",
   "name": "python",
   "nbconvert_exporter": "python",
   "pygments_lexer": "ipython3",
   "version": "3.12.7"
  }
 },
 "nbformat": 4,
 "nbformat_minor": 5
}
